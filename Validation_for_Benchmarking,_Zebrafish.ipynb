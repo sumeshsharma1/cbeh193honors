{
  "nbformat": 4,
  "nbformat_minor": 0,
  "metadata": {
    "colab": {
      "name": "Validation for Benchmarking, Zebrafish",
      "version": "0.3.2",
      "provenance": [],
      "collapsed_sections": []
    },
    "kernelspec": {
      "name": "python3",
      "display_name": "Python 3"
    }
  },
  "cells": [
    {
      "cell_type": "markdown",
      "metadata": {
        "id": "view-in-github",
        "colab_type": "text"
      },
      "source": [
        "[View in Colaboratory](https://colab.research.google.com/github/sumeshsharma1/cbeh193honors/blob/master/Validation_for_Benchmarking%2C_Zebrafish.ipynb)"
      ]
    },
    {
      "metadata": {
        "id": "Ddjeg4KT3LQ9",
        "colab_type": "code",
        "colab": {
          "base_uri": "https://localhost:8080/",
          "height": 51
        },
        "outputId": "cbda7106-74ba-4ad0-bb44-5ae2f2e8afff"
      },
      "cell_type": "code",
      "source": [
        "# For Zebrafish Case Study\n",
        "import numpy as np\n",
        "import matplotlib.pyplot as plt\n",
        "import matplotlib.patches as mpatches\n",
        "n_simulations = 5000;\n",
        "a = .225; m = 33; b = 0.23; c = 0.23; p= 10; \n",
        "tstep = .1;\n",
        "t = np.linspace(0, 1000, num=10001)\n",
        "steps = len(t)\n",
        "x = np.zeros((10,steps,n_simulations),dtype=np.float32)\n",
        "xp = np.zeros((10,steps,n_simulations),dtype=np.float32)\n",
        "print(x.dtype)\n",
        "print(np.shape(x))\n",
        "std = np.array([.28,1.2])\n",
        "mean = np.array([2.8,12])\n",
        "\n",
        "for i in range(n_simulations):\n",
        "  x[:,1,i] = 10,1,0,0,0,0,0,0,0,0\n",
        "  xp[:,1,i] = x[:,1,i]\n",
        "  R = []\n",
        "  R = np.random.randn(1,2);\n",
        "  random_par = np.multiply(std,R) + mean\n",
        "  tau1 = random_par[0,0]\n",
        "  tau2 = random_par[0,1]\n",
        "  for k in range(2,steps):\n",
        "    xp[0,k,i] = xp[0,k-1,i] + tstep*(a*x[9,k-1,i] - b*x[0,k-1,i]) + abs((np.sqrt(tstep*abs(a*x[9,k-1,i]))) - np.sqrt(tstep*abs(b*x[0,k-1,i])))*np.random.randn(1)\n",
        "    xp[1,k,i] = xp[1,k-1,i] + tstep*((m/(1 + ((x[5,k-1,i])**2)/(p**2))) - c*x[1,k-1,i]) + abs((np.sqrt(tstep*abs((m/(1 + ((x[5,k-1,i])**2)/(p**2)))))) - np.sqrt(tstep*abs(c*x[1,k-1,i])))*np.random.randn(1)\n",
        "    xp[2,k,i] = xp[2,k-1,i] + tstep*((4/tau2)*(x[0,k-1,i] - x[2,k-1,i]))\n",
        "    xp[3,k,i] = xp[3,k-1,i] + tstep*((4/tau2)*(x[2,k-1,i] - x[3,k-1,i]))\n",
        "    xp[4,k,i] = xp[4,k-1,i] + tstep*((4/tau2)*(x[3,k-1,i] - x[4,k-1,i]))\n",
        "    xp[5,k,i] = xp[5,k-1,i] + tstep*((4/tau2)*(x[4,k-1,i] - x[5,k-1,i]))\n",
        "    xp[6,k,i] = xp[6,k-1,i] + tstep*((4/tau1)*(x[1,k-1,i] - x[6,k-1,i]))\n",
        "    xp[7,k,i] = xp[7,k-1,i] + tstep*((4/tau1)*(x[6,k-1,i] - x[7,k-1,i]))\n",
        "    xp[8,k,i] = xp[8,k-1,i] + tstep*((4/tau1)*(x[7,k-1,i] - x[8,k-1,i]))\n",
        "    xp[9,k,i] = xp[9,k-1,i] + tstep*((4/tau1)*(x[8,k-1,i] - x[9,k-1,i]))\n",
        "    x[:,k,i] = xp[:,k,i]\n",
        "x1sim = np.squeeze(xp[0,:,:])\n",
        "x2sim = np.squeeze(xp[1,:,:])\n",
        "\n",
        "\n",
        "var1 = np.var(x1sim, axis=1)\n",
        "var2 = np.var(x2sim, axis=1)\n",
        "\n",
        "np.savetxt('var1.txt',var1)\n",
        "np.savetxt('var2.txt',var2)\n",
        "\n",
        "print(var1.shape)\n",
        "\n",
        "plt.plot(t,var1,'b-',t,var2,'r-')\n",
        "plt.xlabel('Time')\n",
        "plt.ylabel('Variance')\n",
        "\n",
        "red_line = mpatches.Patch(color ='red', label = 'm(t)')\n",
        "blue_line = mpatches.Patch(color ='blue', label ='p(t)')\n",
        "plt.legend(handles=[blue_line, red_line])\n",
        "\n",
        "plt.show()\n",
        "  \n"
      ],
      "execution_count": 0,
      "outputs": [
        {
          "output_type": "stream",
          "text": [
            "float32\n",
            "(10, 10001, 5000)\n"
          ],
          "name": "stdout"
        }
      ]
    },
    {
      "metadata": {
        "id": "iGeI4rNILoS_",
        "colab_type": "code",
        "colab": {
          "base_uri": "https://localhost:8080/",
          "height": 34
        },
        "outputId": "bb72661e-8da0-4cb7-ea4a-b39c7f02ce4a"
      },
      "cell_type": "code",
      "source": [
        "\n",
        "# Create & upload a file.\n",
        "uploaded1 = drive.CreateFile({'var1raw': 'var1.txt'})\n",
        "uploaded1.SetContentFile('var1.txt')\n",
        "uploaded1.Upload()\n",
        "print('Uploaded file with ID {}'.format(uploaded.get('id')))\n",
        "\n",
        "uploaded2 = drive.CreateFile({'var2raw': 'var2.txt'})\n",
        "uploaded2.SetContentFile('var2.txt')\n",
        "uploaded2.Upload()\n",
        "print('Uploaded file with ID {}'.format(uploaded.get('id')))"
      ],
      "execution_count": 6,
      "outputs": [
        {
          "output_type": "stream",
          "text": [
            "Uploaded file with ID 1QfO8uHGr8DlWK1HBVUgqX3FuuFz7X0xk\n"
          ],
          "name": "stdout"
        }
      ]
    }
  ]
}